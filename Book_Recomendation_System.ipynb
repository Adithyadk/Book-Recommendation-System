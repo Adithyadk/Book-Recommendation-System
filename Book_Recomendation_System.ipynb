{
  "nbformat": 4,
  "nbformat_minor": 0,
  "metadata": {
    "colab": {
      "provenance": []
    },
    "kernelspec": {
      "name": "python3",
      "display_name": "Python 3"
    },
    "language_info": {
      "name": "python"
    }
  },
  "cells": [
    {
      "cell_type": "code",
      "source": [
        "import pandas as pd\n",
        "from sklearn.feature_extraction.text import TfidfVectorizer\n",
        "from sklearn.metrics.pairwise import cosine_similarity\n",
        "\n",
        "# Load the dataset from CSV\n",
        "df = pd.read_csv(\"Enggbooks.csv\")\n",
        "\n",
        "# Concatenate title, Single_Label, and Rest_of_Labels columns\n",
        "df['combined_text'] = df['title'].fillna('') + ' ' + df['Single_Label'].fillna('') + ' ' + df['Rest_of_Labels'].fillna('')\n",
        "\n",
        "# Preprocess data\n",
        "combined_texts = df['combined_text'].astype(str)\n",
        "\n",
        "# Feature representation\n",
        "tfidf_vectorizer = TfidfVectorizer()\n",
        "tfidf_matrix_combined = tfidf_vectorizer.fit_transform(combined_texts)\n",
        "\n",
        "# Get user input\n",
        "partial_input = input(\"Enter part of a book title: \")\n",
        "\n",
        "# Transform partial input into TF-IDF vector\n",
        "partial_input_vector = tfidf_vectorizer.transform([partial_input])\n",
        "\n",
        "# Calculate cosine similarity between partial input and all book titles\n",
        "cosine_similarities = cosine_similarity(partial_input_vector, tfidf_matrix_combined)\n",
        "\n",
        "# Get top 25 most similar book indices\n",
        "similar_books_indices = cosine_similarities.argsort()[0][-25:][::-1]\n",
        "\n",
        "# Initialize a set to store unique titles\n",
        "unique_titles = set()\n",
        "\n",
        "# Print recommended books with their idbook and unique titles\n",
        "print(\"Recommended books:\")\n",
        "for idx in similar_books_indices:\n",
        "    book_id = df.loc[idx, 'idbook']\n",
        "    book_title = df.loc[idx, 'title']\n",
        "    if book_title not in unique_titles:\n",
        "        print(f\"idbook: {book_id}, title: {book_title}\")\n",
        "        unique_titles.add(book_title)\n",
        "        # Stop when we have 25 unique titles\n",
        "        if len(unique_titles) == 25:\n",
        "            break\n"
      ],
      "metadata": {
        "colab": {
          "base_uri": "https://localhost:8080/"
        },
        "id": "l52vy6xnoWdo",
        "outputId": "78f9e478-f6de-4b04-b944-525747ff07b7"
      },
      "execution_count": 10,
      "outputs": [
        {
          "output_type": "stream",
          "name": "stdout",
          "text": [
            "Enter part of a book title: Algorithms\n",
            "Recommended books:\n",
            "idbook: 99519612, title: Parameterized Algorithms\n",
            "idbook: 99530669, title: Fault-Tolerant Search Algorithms\n",
            "idbook: 99512734, title: Algorithmic Mathematics\n",
            "idbook: 99554562, title: Practical Analysis of Algorithms\n",
            "idbook: 99515941, title: Approximation and Online Algorithms\n",
            "idbook: 99501694, title: WALCOM: Algorithms and Computation\n",
            "idbook: 99522836, title: Resource-Aware Data Fusion Algorithms for Wireless Sensor Networks\n",
            "idbook: 99510180, title: Models, Algorithms and Technologies for Network Analysis\n",
            "idbook: 99555881, title: Approximation Randomization and Combinatorial Optimization. Algorithms and Techniques\n",
            "idbook: 99538852, title: Design and Analysis of Randomized Algorithms\n",
            "idbook: 99534652, title: Sensors: Theory Algorithms and Applications\n",
            "idbook: 99540055, title: Applied Algorithms\n",
            "idbook: 99543790, title: Intelligent Algorithms in Ambient and Biomedical Computing\n",
            "idbook: 99511220, title: An Introduction to Online Computation\n",
            "idbook: 99551708, title: Experimental Algorithms\n",
            "idbook: 99553084, title: Design and Analysis of Approximation Algorithms\n",
            "idbook: 99547582, title: Algorithms and Computation\n",
            "idbook: 99526132, title: Algorithms in Algebraic Geometry\n",
            "idbook: 99538239, title: Algorithms and Programming\n"
          ]
        }
      ]
    },
    {
      "cell_type": "code",
      "source": [
        "# Train or load your model here\n",
        "# For demonstration purposes, let's assume you have a trained model named 'model'\n",
        "\n",
        "import pickle\n",
        "from google.colab import files\n",
        "\n",
        "# Save the model to a pickle file\n",
        "with open('book_recommendation_model.pkl', 'wb') as f:\n",
        "    pickle.dump(model, f)\n",
        "\n",
        "# Download the pickle file\n",
        "files.download('book_recommendation_model.pkl')\n"
      ],
      "metadata": {
        "colab": {
          "base_uri": "https://localhost:8080/",
          "height": 211
        },
        "id": "UkFCZVOjuoPe",
        "outputId": "7ff4756c-99e1-48cf-c1cc-5b5ceab0d057"
      },
      "execution_count": 11,
      "outputs": [
        {
          "output_type": "error",
          "ename": "NameError",
          "evalue": "name 'model' is not defined",
          "traceback": [
            "\u001b[0;31m---------------------------------------------------------------------------\u001b[0m",
            "\u001b[0;31mNameError\u001b[0m                                 Traceback (most recent call last)",
            "\u001b[0;32m<ipython-input-11-6bd5f266f2f6>\u001b[0m in \u001b[0;36m<cell line: 8>\u001b[0;34m()\u001b[0m\n\u001b[1;32m      7\u001b[0m \u001b[0;31m# Save the model to a pickle file\u001b[0m\u001b[0;34m\u001b[0m\u001b[0;34m\u001b[0m\u001b[0m\n\u001b[1;32m      8\u001b[0m \u001b[0;32mwith\u001b[0m \u001b[0mopen\u001b[0m\u001b[0;34m(\u001b[0m\u001b[0;34m'book_recommendation_model.pkl'\u001b[0m\u001b[0;34m,\u001b[0m \u001b[0;34m'wb'\u001b[0m\u001b[0;34m)\u001b[0m \u001b[0;32mas\u001b[0m \u001b[0mf\u001b[0m\u001b[0;34m:\u001b[0m\u001b[0;34m\u001b[0m\u001b[0;34m\u001b[0m\u001b[0m\n\u001b[0;32m----> 9\u001b[0;31m     \u001b[0mpickle\u001b[0m\u001b[0;34m.\u001b[0m\u001b[0mdump\u001b[0m\u001b[0;34m(\u001b[0m\u001b[0mmodel\u001b[0m\u001b[0;34m,\u001b[0m \u001b[0mf\u001b[0m\u001b[0;34m)\u001b[0m\u001b[0;34m\u001b[0m\u001b[0;34m\u001b[0m\u001b[0m\n\u001b[0m\u001b[1;32m     10\u001b[0m \u001b[0;34m\u001b[0m\u001b[0m\n\u001b[1;32m     11\u001b[0m \u001b[0;31m# Download the pickle file\u001b[0m\u001b[0;34m\u001b[0m\u001b[0;34m\u001b[0m\u001b[0m\n",
            "\u001b[0;31mNameError\u001b[0m: name 'model' is not defined"
          ]
        }
      ]
    },
    {
      "cell_type": "code",
      "source": [],
      "metadata": {
        "id": "c2DyDBcDoXCK"
      },
      "execution_count": 17,
      "outputs": []
    }
  ]
}