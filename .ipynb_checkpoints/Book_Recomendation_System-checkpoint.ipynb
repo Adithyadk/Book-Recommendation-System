{
 "cells": [
  {
   "cell_type": "code",
   "execution_count": 4,
   "metadata": {
    "id": "kmzUL28CpN6p"
   },
   "outputs": [],
   "source": [
    "import pandas as pd\n",
    "from sklearn.feature_extraction.text import TfidfVectorizer\n",
    "from sklearn.metrics.pairwise import linear_kernel"
   ]
  },
  {
   "cell_type": "code",
   "execution_count": 5,
   "metadata": {
    "colab": {
     "base_uri": "https://localhost:8080/",
     "height": 217
    },
    "id": "8wvPuQt2pQ4m",
    "outputId": "804cb747-4a7e-4006-b4e4-3b148f23bb75"
   },
   "outputs": [],
   "source": [
    "# Load the dataset from CSV\n",
    "df = pd.read_csv(\"Enggbooks.csv\")"
   ]
  },
  {
   "cell_type": "code",
   "execution_count": 6,
   "metadata": {
    "id": "O-rR8S64pVm5"
   },
   "outputs": [],
   "source": [
    "# Preprocess data\n",
    "book_titles = df['title'].fillna('').astype(str)\n",
    "toc_texts = df['toc'].fillna('').astype(str)\n",
    "labels = df['Single_Label'].fillna('').astype(str)"
   ]
  },
  {
   "cell_type": "code",
   "execution_count": 7,
   "metadata": {
    "id": "1yiZXRo0pYBL"
   },
   "outputs": [],
   "source": [
    "# Feature representation\n",
    "tfidf_vectorizer = TfidfVectorizer()\n",
    "tfidf_matrix_titles = tfidf_vectorizer.fit_transform(book_titles)\n",
    "tfidf_matrix_toc = tfidf_vectorizer.fit_transform(toc_texts)\n",
    "tfidf_matrix_labels = tfidf_vectorizer.fit_transform(labels)"
   ]
  },
  {
   "cell_type": "code",
   "execution_count": null,
   "metadata": {
    "id": "so47HeaVpbBF"
   },
   "outputs": [],
   "source": [
    "# Compute similarity\n",
    "cosine_sim_titles = linear_kernel(tfidf_matrix_titles, tfidf_matrix_titles)\n",
    "cosine_sim_toc = linear_kernel(tfidf_matrix_toc, tfidf_matrix_toc)\n",
    "cosine_sim_labels = linear_kernel(tfidf_matrix_labels, tfidf_matrix_labels)"
   ]
  },
  {
   "cell_type": "code",
   "execution_count": null,
   "metadata": {
    "id": "P-x-ljcypdaR"
   },
   "outputs": [],
   "source": [
    "# Function to get recommendations based on a given book\n",
    "def get_recommendations(book_index, cosine_sim):\n",
    "    sim_scores = list(enumerate(cosine_sim[book_index]))\n",
    "    sim_scores = sorted(sim_scores, key=lambda x: x[1], reverse=True)\n",
    "    sim_scores = sim_scores[1:11]  # Exclude the book itself\n",
    "    book_indices = [i[0] for i in sim_scores]\n",
    "    return book_indices"
   ]
  },
  {
   "cell_type": "code",
   "execution_count": null,
   "metadata": {
    "id": "VNNpS5UVpfeh"
   },
   "outputs": [],
   "source": [
    "# Function to find book index based on title\n",
    "def find_book_index(book_title):\n",
    "    return df.index[df['title'].str.lower() == book_title.lower()].tolist()"
   ]
  },
  {
   "cell_type": "code",
   "execution_count": null,
   "metadata": {
    "id": "RkHUjWb0pg3R"
   },
   "outputs": [],
   "source": [
    "# Get user input\n",
    "user_input = input(\"Enter a book title: \")\n",
    "book_index = find_book_index(user_input)\n",
    "\n",
    "if book_index:\n",
    "    book_index = book_index[0]  # Get the first index if multiple matches found\n",
    "    recommendations = get_recommendations(book_index, cosine_sim_titles)\n",
    "    print(f\"Recommendations for '{user_input}':\")\n",
    "    for idx in recommendations:\n",
    "        print(df.loc[idx, 'title'])\n",
    "else:\n",
    "    print(\"Book not found.\")"
   ]
  }
 ],
 "metadata": {
  "colab": {
   "provenance": []
  },
  "kernelspec": {
   "display_name": "Python 3 (ipykernel)",
   "language": "python",
   "name": "python3"
  },
  "language_info": {
   "codemirror_mode": {
    "name": "ipython",
    "version": 3
   },
   "file_extension": ".py",
   "mimetype": "text/x-python",
   "name": "python",
   "nbconvert_exporter": "python",
   "pygments_lexer": "ipython3",
   "version": "3.9.7"
  }
 },
 "nbformat": 4,
 "nbformat_minor": 1
}
